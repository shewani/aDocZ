import pandas as pd
import csv 
from collections import defaultdict
disease_list= []

def return_list(disease):
    disease_list = []
    match = disease.replace('^','_').split('_')
    ctr = 1
    for group in match:
        if ctr%2==0:
            disease_list.append(group)
        ctr = ctr + 1

    return disease_list
	
with open("E:\Disease prediction\Scraped-Data\\dataset_uncleaned.csv") as csvfile:
    reader = csv.reader(csvfile)
    disease=""
    weight = 0
    disease_list = []
    dict_wt = {}
    dict_=defaultdict(list)
    for row in reader:

        if row[0]!="\xc2\xa0" and row[0]!="":
            disease = row[0]
            disease_list = return_list(disease)
            weight = row[1]

        if row[2]!="\xc2\xa0" and row[2]!="":
            symptom_list = return_list(row[2])

            for d in disease_list:
                for s in symptom_list:
                    dict_[d].append(s)
                dict_wt[d] = weight
				
with open("Scraped-Data\\dataset_clean.csv","w") as csvfile:
    writer = csv.writer(csvfile)
    for key,values in dict_.items():
        for v in values:
            key = str.encode(key).decode('utf-8')
            writer.writerow([key,v,dict_wt[key]])
	
columns = ['Source','Target','Weight']
	
data = pd.read_csv("E:\Disease prediction\Scraped-Data\\dataset_clean.csv",names=columns, encoding ="ISO-8859-1")	
data.to_csv("E:\Disease prediction\Scraped-Data\\dataset_clean.csv",index=False)
slist = []
dlist = []
with open("E:\Disease prediction\Scraped-Data\\nodetable.csv","w") as csvfile:
    writer = csv.writer(csvfile)

    for key,values in dict_.items():
        for v in values:
            if v not in slist:
                writer.writerow([v,v,"symptom"])
                slist.append(v)
        if key not in dlist:
            writer.writerow([key,key,"disease"])
            dlist.append(key)
nt_columns = ['Id','Label','Attribute']
nt_data = pd.read_csv("E:\Disease prediction\Scraped-Data\\nodetable.csv",names=nt_columns, encoding ="ISO-8859-1",)
nt_data.to_csv("E:\Disease prediction\Scraped-Data\\nodetable.csv",index=False)
data = pd.read_csv("E:\Disease prediction\Scraped-Data\\dataset_clean.csv", encoding ="ISO-8859-1")
df=pd.DataFrame(data)
df_1=pd.get_dummies(df.Target)
df_s=df['Source']
df_pivoted=pd.concat([df_s,df_1],axis=1)
df_pivoted.drop_duplicates(keep='first',inplace=True)
cols=df_pivoted.columns
cols=cols[1:]
df_pivoted = df_pivoted.groupby('Source').sum()
df_pivoted = df_pivoted.reset_index()
df_pivoted[:5]
df_pivoted.to_csv("E:\Disease prediction\Scraped-Data\\df_pivoted.csv")
x = df_pivoted[cols]
y = df_pivoted['Source']

import pandas as pd
import seaborn as sns
import matplotlib.pyplot as plt

from sklearn.tree import DecisionTreeClassifier, export_graphviz
from sklearn.naive_bayes import MultinomialNB
from sklearn.cross_validation import train_test_split

x_train, x_test, y_train, y_test = train_test_split(x, y, test_size=0.33, random_state=42)
mnb = MultinomialNB()
mnb = mnb.fit(x_train, y_train)

mnb_tot = MultinomialNB()
mnb_tot = mnb_tot.fit(x, y)
disease_pred = mnb_tot.predict(x)
disease_real=y.values

dt = DecisionTreeClassifier()
clf_dt=dt.fit(x,y)
from sklearn import tree 
from sklearn.tree import export_graphviz

export_graphviz(dt,
                out_file='DOT-files/tree.dot', 
                feature_names=cols)
from IPython.display import Image
Image(filename='tree.png')
data = pd.read_csv("Manual-Data\\Training.csv")
df=pd.DataFrame(data)
cols=df.columns
cols=cols[:-1]
x = df[cols]
y = df['prognosis']

import pandas as pd
import seaborn as sns
import matplotlib.pyplot as plt

from sklearn.naive_bayes import MultinomialNB
from sklearn.cross_validation import train_test_split

x_train, x_test, y_train, y_test = train_test_split(x, y, test_size=0.33, random_state=42)
mnb = MultinomialNB()
mnb = mnb.fit(x_train, y_train)

from sklearn import cross_validation
scores = cross_validation.cross_val_score(mnb, x_test, y_test, cv=3)
test_data = pd.read_csv("Manual-Data\\Testing.csv")

testx = test_data[cols]
testy = test_data['prognosis']

from sklearn.tree import DecisionTreeClassifier, export_graphviz
x_train, x_test, y_train, y_test = train_test_split(x, y, test_size=0.33, random_state=42)
dt = DecisionTreeClassifier()
clf_dt=dt.fit(x_train,y_train)

from sklearn import cross_validation
scores = cross_validation.cross_val_score(dt, x_test, y_test, cv=3)

from sklearn import tree 
from sklearn.tree import export_graphviz

export_graphviz(dt, 
                out_file='DOT-files\\tree.dot', 
                feature_names=cols)
from IPython.display import Image
Image(filename='tree.png')

import numpy as np
import matplotlib.pyplot as plt

importances = dt.feature_importances_
indices = np.argsort(importances)[::-1]

features=cols

export_graphviz(dt, 
                out_file='DOT-files\\tree-top5.dot', 
                feature_names=cols,
                max_depth = 5
               )
from IPython.display import Image
Image(filename='tree-top5.png')

feature_dict = {}
for i,f in enumerate(features):
    feature_dict[f] = i
str=input()
g=feature_dict[str]

	
sample_x = [i/g if i ==g else i*0 for i in range(len(features))]


sample_x = np.array(sample_x).reshape(1,len(sample_x))
print(dt.predict(sample_x))